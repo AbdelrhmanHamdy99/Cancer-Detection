{
 "cells": [
  {
   "cell_type": "code",
   "execution_count": 4,
   "id": "015c3ce9",
   "metadata": {},
   "outputs": [],
   "source": [
    "import pandas as pd\n",
    "import numpy as np\n",
    "\n",
    "#import SKlearn Library\n",
    "import sklearn as sk\n",
    "#use knn algorithm\n",
    "from sklearn.neighbors import KNeighborsClassifier\n",
    "#to calculate the acuracy of prediction\n",
    "from sklearn.metrics import accuracy_score"
   ]
  },
  {
   "cell_type": "code",
   "execution_count": 5,
   "id": "47e53993",
   "metadata": {},
   "outputs": [
    {
     "data": {
      "text/html": [
       "<div>\n",
       "<style scoped>\n",
       "    .dataframe tbody tr th:only-of-type {\n",
       "        vertical-align: middle;\n",
       "    }\n",
       "\n",
       "    .dataframe tbody tr th {\n",
       "        vertical-align: top;\n",
       "    }\n",
       "\n",
       "    .dataframe thead th {\n",
       "        text-align: right;\n",
       "    }\n",
       "</style>\n",
       "<table border=\"1\" class=\"dataframe\">\n",
       "  <thead>\n",
       "    <tr style=\"text-align: right;\">\n",
       "      <th></th>\n",
       "      <th>texture_mean</th>\n",
       "      <th>area_mean</th>\n",
       "      <th>smoothness_mean</th>\n",
       "      <th>concave points_mean</th>\n",
       "      <th>symmetry_mean</th>\n",
       "      <th>fractal_dimension_mean</th>\n",
       "      <th>texture_se</th>\n",
       "      <th>area_se</th>\n",
       "      <th>smoothness_se</th>\n",
       "      <th>concave points_se</th>\n",
       "      <th>symmetry_se</th>\n",
       "      <th>fractal_dimension_se</th>\n",
       "      <th>symmetry_worst</th>\n",
       "      <th>diagnosis</th>\n",
       "    </tr>\n",
       "  </thead>\n",
       "  <tbody>\n",
       "    <tr>\n",
       "      <th>0</th>\n",
       "      <td>0.916946</td>\n",
       "      <td>-0.232332</td>\n",
       "      <td>-0.277565</td>\n",
       "      <td>-0.631673</td>\n",
       "      <td>-0.538947</td>\n",
       "      <td>-0.678694</td>\n",
       "      <td>0.216173</td>\n",
       "      <td>-0.200151</td>\n",
       "      <td>-0.391009</td>\n",
       "      <td>-0.443179</td>\n",
       "      <td>0.039678</td>\n",
       "      <td>-0.458404</td>\n",
       "      <td>-0.418610</td>\n",
       "      <td>B</td>\n",
       "    </tr>\n",
       "    <tr>\n",
       "      <th>1</th>\n",
       "      <td>-1.014519</td>\n",
       "      <td>-0.707013</td>\n",
       "      <td>0.351537</td>\n",
       "      <td>-0.506314</td>\n",
       "      <td>0.260609</td>\n",
       "      <td>-0.158433</td>\n",
       "      <td>-0.324502</td>\n",
       "      <td>-0.477813</td>\n",
       "      <td>-0.126331</td>\n",
       "      <td>-0.281618</td>\n",
       "      <td>-0.456744</td>\n",
       "      <td>-0.382376</td>\n",
       "      <td>-0.383019</td>\n",
       "      <td>B</td>\n",
       "    </tr>\n",
       "    <tr>\n",
       "      <th>2</th>\n",
       "      <td>-0.749234</td>\n",
       "      <td>0.380003</td>\n",
       "      <td>0.173624</td>\n",
       "      <td>0.130282</td>\n",
       "      <td>0.651260</td>\n",
       "      <td>0.414279</td>\n",
       "      <td>-1.320576</td>\n",
       "      <td>-0.559439</td>\n",
       "      <td>-0.843694</td>\n",
       "      <td>0.026580</td>\n",
       "      <td>-0.145573</td>\n",
       "      <td>-0.037411</td>\n",
       "      <td>0.408076</td>\n",
       "      <td>B</td>\n",
       "    </tr>\n",
       "    <tr>\n",
       "      <th>3</th>\n",
       "      <td>-0.248914</td>\n",
       "      <td>-0.460145</td>\n",
       "      <td>1.810429</td>\n",
       "      <td>0.106035</td>\n",
       "      <td>-0.374655</td>\n",
       "      <td>1.379668</td>\n",
       "      <td>-0.086823</td>\n",
       "      <td>-0.131286</td>\n",
       "      <td>-0.589350</td>\n",
       "      <td>0.104441</td>\n",
       "      <td>-0.288445</td>\n",
       "      <td>-0.187576</td>\n",
       "      <td>-0.515677</td>\n",
       "      <td>B</td>\n",
       "    </tr>\n",
       "  </tbody>\n",
       "</table>\n",
       "</div>"
      ],
      "text/plain": [
       "   texture_mean  area_mean  smoothness_mean  concave points_mean  \\\n",
       "0      0.916946  -0.232332        -0.277565            -0.631673   \n",
       "1     -1.014519  -0.707013         0.351537            -0.506314   \n",
       "2     -0.749234   0.380003         0.173624             0.130282   \n",
       "3     -0.248914  -0.460145         1.810429             0.106035   \n",
       "\n",
       "   symmetry_mean  fractal_dimension_mean  texture_se   area_se  smoothness_se  \\\n",
       "0      -0.538947               -0.678694    0.216173 -0.200151      -0.391009   \n",
       "1       0.260609               -0.158433   -0.324502 -0.477813      -0.126331   \n",
       "2       0.651260                0.414279   -1.320576 -0.559439      -0.843694   \n",
       "3      -0.374655                1.379668   -0.086823 -0.131286      -0.589350   \n",
       "\n",
       "   concave points_se  symmetry_se  fractal_dimension_se  symmetry_worst  \\\n",
       "0          -0.443179     0.039678             -0.458404       -0.418610   \n",
       "1          -0.281618    -0.456744             -0.382376       -0.383019   \n",
       "2           0.026580    -0.145573             -0.037411        0.408076   \n",
       "3           0.104441    -0.288445             -0.187576       -0.515677   \n",
       "\n",
       "  diagnosis  \n",
       "0         B  \n",
       "1         B  \n",
       "2         B  \n",
       "3         B  "
      ]
     },
     "execution_count": 5,
     "metadata": {},
     "output_type": "execute_result"
    }
   ],
   "source": [
    "#read the data\n",
    "cancer_data = pd.read_csv('Breast-Cancer Data.csv').sample(frac=1).reset_index(drop=True)\n",
    "#show first 4 rows in the excel sheet\n",
    "cancer_data.head(4)"
   ]
  },
  {
   "cell_type": "code",
   "execution_count": 8,
   "id": "362fc4a7",
   "metadata": {},
   "outputs": [],
   "source": [
    "#split the data into train & test\n",
    "\n",
    "x_test = cancer_data.loc[501:].drop('diagnosis', axis = 1).reset_index(drop=True)\n",
    "x_train = cancer_data.loc[:500].drop('diagnosis', axis = 1)\n",
    "y_test = cancer_data.loc[501:]['diagnosis'].reset_index(drop=True)\n",
    "y_train = cancer_data.loc[:500]['diagnosis']"
   ]
  },
  {
   "cell_type": "code",
   "execution_count": 10,
   "id": "c7ddf2c5",
   "metadata": {},
   "outputs": [],
   "source": [
    "#train the model\n",
    "model = KNeighborsClassifier(n_neighbors = 5)\n",
    "model.fit(data,M_or_B)\n",
    "#predict \n",
    "y_predict = model.predict(test)\n",
    "#measure the accuracy\n",
    "acc = accuracy_score(y_predict,test_M_or_B )"
   ]
  },
  {
   "cell_type": "code",
   "execution_count": 11,
   "id": "197d16fe",
   "metadata": {},
   "outputs": [
    {
     "name": "stdout",
     "output_type": "stream",
     "text": [
      "['M' 'M' 'B' 'B' 'B' 'M' 'M' 'M' 'M' 'M' 'M' 'B' 'M' 'B' 'B' 'B' 'B' 'B'\n",
      " 'B' 'M' 'M' 'B' 'B' 'B' 'B' 'B' 'B' 'M' 'M' 'B' 'B' 'M' 'B' 'B' 'B' 'B'\n",
      " 'B' 'B' 'M' 'B' 'B' 'M' 'B' 'B' 'B' 'M' 'M' 'M' 'B' 'M' 'M' 'B' 'B' 'B'\n",
      " 'B' 'B' 'M' 'B' 'M' 'M' 'M' 'B' 'B' 'M' 'B' 'B' 'M' 'B']\n"
     ]
    }
   ],
   "source": [
    "#print the prediction output\n",
    "print(y_predict)"
   ]
  },
  {
   "cell_type": "code",
   "execution_count": 12,
   "id": "67cded2a",
   "metadata": {},
   "outputs": [
    {
     "name": "stdout",
     "output_type": "stream",
     "text": [
      "0.9705882352941176\n"
     ]
    }
   ],
   "source": [
    "#print accuracy \n",
    "print(acc)"
   ]
  },
  {
   "cell_type": "code",
   "execution_count": null,
   "id": "2a821d97",
   "metadata": {},
   "outputs": [],
   "source": []
  }
 ],
 "metadata": {
  "kernelspec": {
   "display_name": "Python 3 (ipykernel)",
   "language": "python",
   "name": "python3"
  },
  "language_info": {
   "codemirror_mode": {
    "name": "ipython",
    "version": 3
   },
   "file_extension": ".py",
   "mimetype": "text/x-python",
   "name": "python",
   "nbconvert_exporter": "python",
   "pygments_lexer": "ipython3",
   "version": "3.9.7"
  }
 },
 "nbformat": 4,
 "nbformat_minor": 5
}
